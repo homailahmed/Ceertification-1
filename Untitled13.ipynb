{
  "nbformat": 4,
  "nbformat_minor": 0,
  "metadata": {
    "colab": {
      "provenance": [],
      "authorship_tag": "ABX9TyPiIgH6ZLInxIPLCyNgFsu/",
      "include_colab_link": true
    },
    "kernelspec": {
      "name": "python3",
      "display_name": "Python 3"
    },
    "language_info": {
      "name": "python"
    }
  },
  "cells": [
    {
      "cell_type": "markdown",
      "metadata": {
        "id": "view-in-github",
        "colab_type": "text"
      },
      "source": [
        "<a href=\"https://colab.research.google.com/github/homailahmed/Ceertification-1/blob/main/Untitled13.ipynb\" target=\"_parent\"><img src=\"https://colab.research.google.com/assets/colab-badge.svg\" alt=\"Open In Colab\"/></a>"
      ]
    },
    {
      "cell_type": "code",
      "execution_count": 3,
      "metadata": {
        "colab": {
          "base_uri": "https://localhost:8080/"
        },
        "id": "wTnFzavpKVBb",
        "outputId": "22747e8e-6bf0-42f8-9bc2-cf9de853417f"
      },
      "outputs": [
        {
          "output_type": "stream",
          "name": "stdout",
          "text": [
            "['samosa', 'pakoray', 'haleem', 'dahibhaly', 'ice cream']\n"
          ]
        }
      ],
      "source": [
        "dishes = [\"samosa\",\"pakoray\",\"haleem\",\"dahibhaly\"]\n",
        "dishes.append(\"ice cream\")\n",
        "print(dishes)"
      ]
    },
    {
      "cell_type": "code",
      "source": [
        "name1: str = \"Ameen\"\n",
        "name2: str = \"Ameen khatri\"\n",
        "print(name1 is name2)\n",
        "print(name1 is name2)"
      ],
      "metadata": {
        "colab": {
          "base_uri": "https://localhost:8080/"
        },
        "id": "Lpzr5hiWMjaa",
        "outputId": "06d92f29-58b4-4057-ad50-44410caade9d"
      },
      "execution_count": 14,
      "outputs": [
        {
          "output_type": "stream",
          "name": "stdout",
          "text": [
            "False\n",
            "False\n"
          ]
        }
      ]
    },
    {
      "cell_type": "code",
      "source": [
        "my_list = [1,2,3, \"AbD\",{\"abc\": \"avz\"}]\n",
        "my_list.remove(\"AbD\")\n",
        "print(my_list)\n",
        "\n",
        "popped_element = my_list.pop(0)\n",
        "print(my_list)\n",
        "print(popped_element)\n"
      ],
      "metadata": {
        "colab": {
          "base_uri": "https://localhost:8080/"
        },
        "id": "gVmwndQhXNEy",
        "outputId": "848d38cc-2297-4701-a792-acfb96478b4b"
      },
      "execution_count": 26,
      "outputs": [
        {
          "output_type": "stream",
          "name": "stdout",
          "text": [
            "[1, 2, 3, {'abc': 'avz'}]\n",
            "[2, 3, {'abc': 'avz'}]\n",
            "1\n"
          ]
        }
      ]
    }
  ]
}