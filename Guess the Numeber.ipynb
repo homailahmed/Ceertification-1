{
  "nbformat": 4,
  "nbformat_minor": 0,
  "metadata": {
    "colab": {
      "provenance": [],
      "authorship_tag": "ABX9TyOmeGUy86EcPOJk9vMOGybx",
      "include_colab_link": true
    },
    "kernelspec": {
      "name": "python3",
      "display_name": "Python 3"
    },
    "language_info": {
      "name": "python"
    }
  },
  "cells": [
    {
      "cell_type": "markdown",
      "metadata": {
        "id": "view-in-github",
        "colab_type": "text"
      },
      "source": [
        "<a href=\"https://colab.research.google.com/github/homailahmed/Ceertification-1/blob/main/Guess%20the%20Numeber.ipynb\" target=\"_parent\"><img src=\"https://colab.research.google.com/assets/colab-badge.svg\" alt=\"Open In Colab\"/></a>"
      ]
    },
    {
      "cell_type": "code",
      "execution_count": 6,
      "metadata": {
        "colab": {
          "base_uri": "https://localhost:8080/"
        },
        "id": "6106wnUCYf7J",
        "outputId": "a3827e7b-92ff-49c1-ffc9-bcac0c852754"
      },
      "outputs": [
        {
          "output_type": "stream",
          "name": "stdout",
          "text": [
            "Welcome to the Number Guessing Game!\n",
            "I am thinking of a number between 1 and 100.\n",
            "\n",
            "You have 7 guesses left.\n",
            "Take a guess: 7\n",
            "Too low! Try again.\n",
            "\n",
            "You have 6 guesses left.\n",
            "Take a guess: 15\n",
            "Too low! Try again.\n",
            "\n",
            "You have 5 guesses left.\n",
            "Take a guess: 35\n",
            "Too low! Try again.\n",
            "\n",
            "You have 4 guesses left.\n",
            "Take a guess: 65\n",
            "Congratulations! You guessed the correct number in 4 tries.\n"
          ]
        }
      ],
      "source": [
        "# project 2 : Guess The Number Game By Computer\n",
        "# 1 to 100 Number\n",
        "\n",
        "import random\n",
        "\n",
        "def guess_the_number():\n",
        "    '''Project 2: Guess The Number Game By Computer.'''\n",
        "    number = random.randint(1, 100)\n",
        "    guesses_left = 7\n",
        "\n",
        "    # Welcome message\n",
        "    print(\"Welcome to the Number Guessing Game!\")\n",
        "    print(\"I am thinking of a number between 1 and 100.\")\n",
        "\n",
        "    # Loop for guessing\n",
        "    while guesses_left > 0:\n",
        "        print(f\"\\nYou have {guesses_left} guesses left.\")\n",
        "\n",
        "        try:\n",
        "            guess = int(input(\"Take a guess: \"))\n",
        "        except ValueError:\n",
        "            print(\"Invalid input: Please enter a number.\")\n",
        "            continue  # Skip to next iteration if input is invalid\n",
        "\n",
        "        # Check the guessed number\n",
        "        if guess < number:\n",
        "            print(\"Too low! Try again.\")\n",
        "        elif guess > number:\n",
        "            print(\"Too high! Try again.\")\n",
        "        else:\n",
        "            print(f\"Congratulations! You guessed the correct number in {7 - guesses_left + 1} tries.\")\n",
        "            return  # Exit function after a correct guess\n",
        "\n",
        "        guesses_left -= 1\n",
        "\n",
        "    # Out of guesses\n",
        "    print(f\"\\nYou've run out of guesses. The correct number was {number}.\")\n",
        "\n",
        "# Run the game\n",
        "guess_the_number()\n"
      ]
    }
  ]
}