{
  "nbformat": 4,
  "nbformat_minor": 0,
  "metadata": {
    "colab": {
      "provenance": [],
      "authorship_tag": "ABX9TyMJK335Oi/XSjUs9ieNNksd",
      "include_colab_link": true
    },
    "kernelspec": {
      "name": "python3",
      "display_name": "Python 3"
    },
    "language_info": {
      "name": "python"
    }
  },
  "cells": [
    {
      "cell_type": "markdown",
      "metadata": {
        "id": "view-in-github",
        "colab_type": "text"
      },
      "source": [
        "<a href=\"https://colab.research.google.com/github/homailahmed/Ceertification-1/blob/main/List_.ipynb\" target=\"_parent\"><img src=\"https://colab.research.google.com/assets/colab-badge.svg\" alt=\"Open In Colab\"/></a>"
      ]
    },
    {
      "cell_type": "markdown",
      "source": [
        "**List**"
      ],
      "metadata": {
        "id": "9SaP7b38Flvw"
      }
    },
    {
      "cell_type": "code",
      "source": [
        "list = [\"banana\", \"apple\",\"orange\", \"mango\"]\n",
        "a,b,c,d = list\n",
        "print(a,c)\n",
        "print(d,c,b,a)\n",
        "print(a,b,c,d)"
      ],
      "metadata": {
        "colab": {
          "base_uri": "https://localhost:8080/"
        },
        "id": "_Mrnpl8xFoZp",
        "outputId": "08615282-483f-41fc-d978-b904af44344e"
      },
      "execution_count": 15,
      "outputs": [
        {
          "output_type": "stream",
          "name": "stdout",
          "text": [
            "banana orange\n",
            "mango orange apple banana\n",
            "banana apple orange mango\n"
          ]
        }
      ]
    },
    {
      "cell_type": "markdown",
      "source": [],
      "metadata": {
        "id": "4ifuNhWWFhij"
      }
    },
    {
      "cell_type": "markdown",
      "source": [
        "**Concatination**"
      ],
      "metadata": {
        "id": "kMPtdJjyAr73"
      }
    },
    {
      "cell_type": "code",
      "source": [
        "a = \"my name is Homail Ahmed\"\n",
        "age = \"my age is 35\"\n",
        "c = \"I live in pakistan\"\n",
        "print(a)\n",
        "print(age)\n",
        "print(c)\n"
      ],
      "metadata": {
        "colab": {
          "base_uri": "https://localhost:8080/"
        },
        "id": "WSjEY-1dAyYs",
        "outputId": "eecdcfc7-7ef5-461f-ca35-5c05967f6ed4"
      },
      "execution_count": 14,
      "outputs": [
        {
          "output_type": "stream",
          "name": "stdout",
          "text": [
            "my name is Homail Ahmed\n",
            "my age is 35\n",
            "I live in pakistan\n"
          ]
        }
      ]
    },
    {
      "cell_type": "markdown",
      "source": [
        "***Scape characters***"
      ],
      "metadata": {
        "id": "qkDDAwpMF0AO"
      }
    },
    {
      "cell_type": "code",
      "source": [
        "string = \"i am\\t \\\"35years\\\"\\n old\\t \\n Alhamdulillah\"\n",
        "print(string)"
      ],
      "metadata": {
        "colab": {
          "base_uri": "https://localhost:8080/"
        },
        "id": "dY_yCOwrGBIu",
        "outputId": "8589a784-50b8-4e95-f3a2-fa4f46add77e"
      },
      "execution_count": 20,
      "outputs": [
        {
          "output_type": "stream",
          "name": "stdout",
          "text": [
            "i am\t \"35years\"\n",
            " old\t \n",
            " Alhamdulillah\n"
          ]
        }
      ]
    },
    {
      "cell_type": "markdown",
      "source": [
        "***Numaric Types***\n",
        "\n",
        "1-Integer\n",
        "\n",
        "2-Float\n",
        "\n",
        "3-Complex"
      ],
      "metadata": {
        "id": "qIHVe_mgHMil"
      }
    },
    {
      "cell_type": "code",
      "source": [
        "a = 10\n",
        "x = 10.5\n",
        "c = complex(5,5)\n",
        "print(type(c))\n",
        "print(type(b))\n",
        "print(type(a))\n"
      ],
      "metadata": {
        "colab": {
          "base_uri": "https://localhost:8080/"
        },
        "id": "EhnK8ki7Hv5B",
        "outputId": "68737599-50e2-4660-9047-1641d296abf6"
      },
      "execution_count": 24,
      "outputs": [
        {
          "output_type": "stream",
          "name": "stdout",
          "text": [
            "<class 'complex'>\n",
            "<class 'float'>\n",
            "<class 'int'>\n"
          ]
        }
      ]
    },
    {
      "cell_type": "markdown",
      "source": [
        "***Types Conversion***"
      ],
      "metadata": {
        "id": "8UbySUYwItl8"
      }
    },
    {
      "cell_type": "code",
      "source": [
        "a = str(20)\n",
        "b = int(21)\n",
        "c = complex(20.5)\n",
        "print(type(c))\n",
        "print(type(b))\n",
        "print(type(a))\n",
        "\n"
      ],
      "metadata": {
        "colab": {
          "base_uri": "https://localhost:8080/"
        },
        "id": "0C6gDzqOI2qq",
        "outputId": "e4d2adc9-2c3d-426f-cf22-62f9de2b3404"
      },
      "execution_count": 25,
      "outputs": [
        {
          "output_type": "stream",
          "name": "stdout",
          "text": [
            "<class 'complex'>\n",
            "<class 'int'>\n",
            "<class 'str'>\n"
          ]
        }
      ]
    },
    {
      "cell_type": "code",
      "source": [],
      "metadata": {
        "id": "FJOmleUxHigr"
      },
      "execution_count": null,
      "outputs": []
    },
    {
      "cell_type": "code",
      "source": [],
      "metadata": {
        "id": "Ebv_qFf8HTQM"
      },
      "execution_count": null,
      "outputs": []
    }
  ]
}