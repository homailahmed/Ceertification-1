{
  "nbformat": 4,
  "nbformat_minor": 0,
  "metadata": {
    "colab": {
      "provenance": [],
      "authorship_tag": "ABX9TyO5tlsZeyMoHbOEvh7ghpXB",
      "include_colab_link": true
    },
    "kernelspec": {
      "name": "python3",
      "display_name": "Python 3"
    },
    "language_info": {
      "name": "python"
    }
  },
  "cells": [
    {
      "cell_type": "markdown",
      "metadata": {
        "id": "view-in-github",
        "colab_type": "text"
      },
      "source": [
        "<a href=\"https://colab.research.google.com/github/homailahmed/Ceertification-1/blob/main/Game%20Lib.ipynb\" target=\"_parent\"><img src=\"https://colab.research.google.com/assets/colab-badge.svg\" alt=\"Open In Colab\"/></a>"
      ]
    },
    {
      "cell_type": "code",
      "execution_count": 1,
      "metadata": {
        "colab": {
          "base_uri": "https://localhost:8080/"
        },
        "id": "ylotdfhx5o5e",
        "outputId": "10da46da-75aa-4102-9056-f4b04244f44f"
      },
      "outputs": [
        {
          "output_type": "stream",
          "name": "stdout",
          "text": [
            "Enter the Boy Name: Master Qaeed Ahmed\n",
            "Enter a programiming :anguage (e.g: pythonm next js , typcript , htnl):html language\n",
            "Enter the mantor name:Homail Ahmed\n",
            "\n",
            " here is my little story base on mad libs game!\n",
            "One's upone a time , thee was a boy named Master Qaeed Ahmed.\n",
            "Master Qaeed Ahmed was very ceruis and always want to learn new thing\n",
            "One day, he dedicated to learn html language language at governor house!\n",
            "Luckily Master Qaeed Ahmed found a great mentor name as Homail Ahmed who was as opert in html language.\n",
            "And so , his journey continues......!\n"
          ]
        }
      ],
      "source": [
        "# user sy input lejiye\n",
        "name = input(\"Enter the Boy Name: \")\n",
        "programing_language = input(\"Enter a programiming :anguage (e.g: pythonm next js , typcript , htnl):\")\n",
        "mentor = input(\"Enter the mantor name:\")\n",
        "\n",
        "\n",
        "# Story created\n",
        "print(\"\\n here is my little story base on mad libs game!\")\n",
        "print(f\"One's upone a time , thee was a boy named {name}.\")\n",
        "print(f\"{name} was very ceruis and always want to learn new thing\")\n",
        "print(f\"One day, he dedicated to learn {programing_language} language at governor house!\")\n",
        "print(f\"Luckily {name} found a great mentor name as {mentor} who was as opert in {programing_language}.\")\n",
        "print(\"And so , his journey continues......!\")"
      ]
    }
  ]
}