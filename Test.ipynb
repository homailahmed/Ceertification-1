{
  "nbformat": 4,
  "nbformat_minor": 0,
  "metadata": {
    "colab": {
      "provenance": [],
      "authorship_tag": "ABX9TyMKi85Qt54Co3B9F6w2nccp",
      "include_colab_link": true
    },
    "kernelspec": {
      "name": "python3",
      "display_name": "Python 3"
    },
    "language_info": {
      "name": "python"
    }
  },
  "cells": [
    {
      "cell_type": "markdown",
      "metadata": {
        "id": "view-in-github",
        "colab_type": "text"
      },
      "source": [
        "<a href=\"https://colab.research.google.com/github/homailahmed/Ceertification-1/blob/main/Test.ipynb\" target=\"_parent\"><img src=\"https://colab.research.google.com/assets/colab-badge.svg\" alt=\"Open In Colab\"/></a>"
      ]
    },
    {
      "cell_type": "code",
      "execution_count": 6,
      "metadata": {
        "id": "hrqutoCJC3Q5"
      },
      "outputs": [],
      "source": [
        "def take_input():\n",
        "    try:\n",
        "      user_input = input(\"enter number\")\n",
        "      convert_inp = int(user_input)\n",
        "      print(convert_inp)\n",
        "    except Exception as e:\n",
        "      print(f\"{user_input} is not a valid number\")\n",
        ""
      ]
    }
  ]
}